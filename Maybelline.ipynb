{
  "nbformat": 4,
  "nbformat_minor": 0,
  "metadata": {
    "colab": {
      "name": "Maybelline.ipynb",
      "provenance": [],
      "collapsed_sections": []
    },
    "kernelspec": {
      "name": "python3",
      "display_name": "Python 3"
    }
  },
  "cells": [
    {
      "cell_type": "markdown",
      "metadata": {
        "id": "y78aIV8s0ftL"
      },
      "source": [
        "##Import + Authentication"
      ]
    },
    {
      "cell_type": "code",
      "metadata": {
        "colab": {
          "base_uri": "https://localhost:8080/"
        },
        "id": "LfnaV52wl5gU",
        "outputId": "3dff4f29-4c71-4d28-a76a-1a3a70db1c36"
      },
      "source": [
        "import tweepy\r\n",
        "from tweepy import OAuthHandler\r\n",
        "\r\n",
        "import datetime\r\n",
        "import json\r\n",
        "import time\r\n",
        "from google.colab import files\r\n",
        "from google.colab import drive\r\n",
        "\r\n",
        "!pip install xlsxwriter\r\n",
        "import xlsxwriter\r\n",
        "import pandas as pd\r\n",
        "\r\n",
        "import openpyxl as op\r\n",
        "from openpyxl import Workbook\r\n",
        "\r\n",
        "#mount drive and authenticate connection\r\n",
        "drive.mount('/content/gdrive') #linking google drive and authenticate"
      ],
      "execution_count": null,
      "outputs": [
        {
          "output_type": "stream",
          "text": [
            "Requirement already satisfied: xlsxwriter in /usr/local/lib/python3.6/dist-packages (1.3.7)\n",
            "Drive already mounted at /content/gdrive; to attempt to forcibly remount, call drive.mount(\"/content/gdrive\", force_remount=True).\n"
          ],
          "name": "stdout"
        }
      ]
    },
    {
      "cell_type": "code",
      "metadata": {
        "id": "tIlXngp6l96k"
      },
      "source": [
        "#API ADLIENA\r\n",
        "\r\n",
        "consumer_key = \"AcUpLjd6Vz9FUywSDeUdHREwr\"\r\n",
        "consumer_secret = \"SNo0eoGXQTN83ncsSocoQALZCZFReDVCkX7LLJnm2XuERdMU1m\"\r\n",
        "access_token = \"1334322472888373248-LoBq7axfGSGyBecBFPkNYtKtel88Wc\"\r\n",
        "access_token_secret = \"6jlTZOtPqfeFSujbNR3hfx7LRwsSABVxiyyCovO9xk3cI\"\r\n",
        "\r\n",
        "auth = OAuthHandler(consumer_key, consumer_secret)\r\n",
        "auth.set_access_token(access_token, access_token_secret)\r\n",
        "api = tweepy.API(auth, wait_on_rate_limit=True)"
      ],
      "execution_count": null,
      "outputs": []
    },
    {
      "cell_type": "markdown",
      "metadata": {
        "id": "flxh4fyvrbUF"
      },
      "source": [
        "##Query 1"
      ]
    },
    {
      "cell_type": "code",
      "metadata": {
        "id": "j_s8Cmxwr-8z",
        "colab": {
          "base_uri": "https://localhost:8080/"
        },
        "outputId": "963fdd20-2250-4914-b5e1-c8dff1a230f4"
      },
      "source": [
        "#appending data\r\n",
        "\r\n",
        "tweet = []\r\n",
        "username = \"@Maybelline\"\r\n",
        "startDate = datetime.datetime(2021, 1, 27) #change\r\n",
        "path = './gdrive/Shared drives/Social Media/Data/'\r\n",
        "#path = '/content/gdrive/Shareddrives/Social Media/Data/@Maybelline_tweets.xlsx'\r\n",
        "book = op.load_workbook(path + username + \"_tweets.xlsx\")\r\n",
        "sheet = book.active\r\n",
        "\r\n",
        "# This section is for you to learn about how the arrays in python function when using Tweepy\r\n",
        "def queryTimeline():\r\n",
        "  result = api.user_timeline(username, count = 5)\r\n",
        "  for twit in result:\r\n",
        "    tweet.append(twit)\r\n",
        "\r\n",
        "  while (result[-1].created_at > startDate):\r\n",
        "    print(\"Last tweet at\", result[-1].created_at, \"- retrieving more tweets\")\r\n",
        "    time.sleep(3)\r\n",
        "    result = api.user_timeline(username, count = 5,max_id = result[-1].id-1)\r\n",
        "    for twit in result:\r\n",
        "      tweet.append(twit)\r\n",
        "\r\n",
        "  row = 0\r\n",
        "  for twit in tweet:\r\n",
        "    col1 = str(twit.id)\r\n",
        "    col2 = str(twit.text)\r\n",
        "    col3 = str(twit.created_at)\r\n",
        "    col4 = str(twit.place)\r\n",
        "    col5 = str(twit.retweet_count)\r\n",
        "    col6 = str(twit.favorite_count)\r\n",
        "    col7 = str(twit.lang)\r\n",
        "    col8 = str(twit.source)\r\n",
        "\r\n",
        "    sheet.append([col1, col2, col3, col4, col5, col6, col7, col8])\r\n",
        "    row +=1\r\n",
        "\r\n",
        "    book.save(path + username + \"_tweets.xlsx\")\r\n",
        "    #files.download(username + \"_tweets.xlsx\")\r\n",
        "\r\n",
        "queryTimeline()"
      ],
      "execution_count": null,
      "outputs": [
        {
          "output_type": "stream",
          "text": [
            "Last tweet at 2021-01-30 02:29:48 - retrieving more tweets\n",
            "Last tweet at 2021-01-28 15:47:23 - retrieving more tweets\n"
          ],
          "name": "stdout"
        }
      ]
    },
    {
      "cell_type": "markdown",
      "metadata": {
        "id": "9cDz0yi2rZOK"
      },
      "source": [
        "##Query 2"
      ]
    },
    {
      "cell_type": "code",
      "metadata": {
        "id": "Zwc4llhZr4jn",
        "colab": {
          "base_uri": "https://localhost:8080/"
        },
        "outputId": "9e617d35-1eef-468b-afe7-3a3d6d9371d0"
      },
      "source": [
        "#appending data\r\n",
        "\r\n",
        "tweet = []\r\n",
        "\r\n",
        "username = \"@Maybelline\"\r\n",
        "startDate = datetime.datetime(2021, 2, 1) #change\r\n",
        "path = './gdrive/Shared drives/Social Media/Data/'\r\n",
        "book = op.load_workbook(path + username + \" search.xlsx\")\r\n",
        "sheet = book.active\r\n",
        "\r\n",
        "# This section is for you to learn about how the arrays in python function when using Tweepy\r\n",
        "def searchBrand():\r\n",
        "  result = api.search(q=username, count = 5)\r\n",
        "  for twit in result:\r\n",
        "    tweet.append(twit)\r\n",
        "\r\n",
        "  while (result[-1].created_at > startDate):\r\n",
        "    print(\"Last tweet at\", result[-1].created_at, \"- retrieving more tweets\")\r\n",
        "    time.sleep(3)\r\n",
        "    result = api.search(q=username, count = 5,max_id = result[-1].id-1)\r\n",
        "    for twit in result:\r\n",
        "      tweet.append(twit)\r\n",
        "\r\n",
        "  row = 0\r\n",
        "  for twit in tweet:\r\n",
        "    col1 = str(twit.user.screen_name)\r\n",
        "    col2 = str(twit.user.id)\r\n",
        "    col3 = str(twit.user.friends_count)\r\n",
        "    col4 = str(twit.user.created_at)\r\n",
        "    col5 = str(twit.text)\r\n",
        "    col6 = str(twit.id)\r\n",
        "    col7 = str(twit.created_at)\r\n",
        "    col8 = str(twit.place)\r\n",
        "    col9 = str(twit.retweet_count)\r\n",
        "    col10 = str(twit.favorite_count)\r\n",
        "    col11 = str(twit.lang)\r\n",
        "\r\n",
        "    sheet.append([col1, col2, col3, col4, col5, col6, col7, col8, col9, col10, col11])\r\n",
        "    row +=1\r\n",
        "\r\n",
        "  book.save(path + username + \" search.xlsx\")\r\n",
        "  #files.download(username + \" search.xlsx\")\r\n",
        "\r\n",
        "searchBrand()"
      ],
      "execution_count": null,
      "outputs": [
        {
          "output_type": "stream",
          "text": [
            "Last tweet at 2021-02-01 13:10:00 - retrieving more tweets\n",
            "Last tweet at 2021-02-01 12:07:20 - retrieving more tweets\n",
            "Last tweet at 2021-02-01 07:40:06 - retrieving more tweets\n",
            "Last tweet at 2021-02-01 06:58:56 - retrieving more tweets\n",
            "Last tweet at 2021-02-01 03:21:33 - retrieving more tweets\n",
            "Last tweet at 2021-02-01 01:42:32 - retrieving more tweets\n"
          ],
          "name": "stdout"
        }
      ]
    },
    {
      "cell_type": "markdown",
      "metadata": {
        "id": "p0iDJxT3rVAS"
      },
      "source": [
        "##Query 3"
      ]
    },
    {
      "cell_type": "code",
      "metadata": {
        "colab": {
          "base_uri": "https://localhost:8080/"
        },
        "id": "op9ysCEVl-j1",
        "outputId": "dbc9e366-f715-4138-db0c-c71ca85a176f"
      },
      "source": [
        "#path = './gdrive/Shared drives/Social Media/Data/'\r\n",
        "path = './gdrive/Shareddrives/Social Media/Data/Maybelline_details.xlsx'\r\n",
        "screen_name = \"Maybelline\" #change\r\n",
        "currentDate = datetime.datetime.now().date() #change\r\n",
        "#currentDate = datetime.datetime(2021, 1, 10)\r\n",
        "#book = op.load_workbook(path + screen_name + \"_details.xlsx\")\r\n",
        "book = op.load_workbook(path)\r\n",
        "sheet = book.active\r\n",
        "\r\n",
        "col1 = []\r\n",
        "col2 = []\r\n",
        "col3 = []\r\n",
        "col4 = []\r\n",
        "\r\n",
        "def getUserDetails():\r\n",
        "  userDetails = api.get_user(screen_name)\r\n",
        "  print(screen_name)\r\n",
        "  print (currentDate)\r\n",
        "  print(\"Twitter user name: \" , userDetails.name)\r\n",
        "  print(\"Number of followers: \" , userDetails.followers_count)\r\n",
        "  #print(\"Number of search\", userDetails.)\r\n",
        "\r\n",
        "  col1 = screen_name\r\n",
        "  col2 = currentDate\r\n",
        "  col3 = userDetails.name\r\n",
        "  col4 = userDetails.followers_count\r\n",
        "  #col5 = userDetails.\r\n",
        "\r\n",
        "  sheet.append([col1, col2, col3, col4])\r\n",
        "  book.save(path)\r\n",
        "  print(\"File updated.\")\r\n",
        "\r\n",
        "  print(col4)\r\n",
        "  #files.download(\"Maybelline_details.xlsx\")\r\n",
        "\r\n",
        "getUserDetails()"
      ],
      "execution_count": null,
      "outputs": [
        {
          "output_type": "stream",
          "text": [
            "Maybelline\n",
            "2021-01-31\n",
            "Twitter user name:  Maybelline New York\n",
            "Number of followers:  709817\n",
            "File updated.\n",
            "709817\n"
          ],
          "name": "stdout"
        }
      ]
    },
    {
      "cell_type": "markdown",
      "metadata": {
        "id": "IAef48XH0rRL"
      },
      "source": [
        "##Extra (Morphe)"
      ]
    },
    {
      "cell_type": "code",
      "metadata": {
        "colab": {
          "base_uri": "https://localhost:8080/"
        },
        "id": "xhRnF4ubHtwv",
        "outputId": "097138af-ead9-46da-88b9-c75777e35067"
      },
      "source": [
        "#path = './gdrive/Shared drives/Social Media/Data/'\r\n",
        "path = './gdrive/Shareddrives/Social Media/Data/fentybeauty_details.xlsx'\r\n",
        "screen_name = \"fentybeauty\" #change\r\n",
        "currentDate = datetime.datetime.now().date() #change\r\n",
        "#currentDate = datetime.datetime(2021, 1, 10)\r\n",
        "#book = op.load_workbook(path + screen_name + \"_details.xlsx\")\r\n",
        "book = op.load_workbook(path)\r\n",
        "sheet = book.active\r\n",
        "\r\n",
        "col1 = []\r\n",
        "col2 = []\r\n",
        "col3 = []\r\n",
        "col4 = []\r\n",
        "\r\n",
        "def getUserDetails():\r\n",
        "  userDetails = api.get_user(screen_name)\r\n",
        "  print(screen_name)\r\n",
        "  print (currentDate)\r\n",
        "  print(\"Twitter user name: \" , userDetails.name)\r\n",
        "  print(\"Number of followers: \" , userDetails.followers_count)\r\n",
        "  #print(\"Number of search\", userDetails.)\r\n",
        "\r\n",
        "  col1 = screen_name\r\n",
        "  col2 = currentDate\r\n",
        "  col3 = userDetails.name\r\n",
        "  col4 = userDetails.followers_count\r\n",
        "  #col5 = userDetails.\r\n",
        "\r\n",
        "  sheet.append([col1, col2, col3, col4])\r\n",
        "  book.save(path)\r\n",
        "  print(\"File updated.\")\r\n",
        "\r\n",
        "  print(col4)\r\n",
        "  #files.download(\"Maybelline_details.xlsx\")\r\n",
        "\r\n",
        "getUserDetails()"
      ],
      "execution_count": null,
      "outputs": [
        {
          "output_type": "stream",
          "text": [
            "fentybeauty\n",
            "2021-01-21\n",
            "Twitter user name:  FENTY BEAUTY\n",
            "Number of followers:  659600\n",
            "File updated.\n",
            "659600\n"
          ],
          "name": "stdout"
        }
      ]
    },
    {
      "cell_type": "code",
      "metadata": {
        "colab": {
          "base_uri": "https://localhost:8080/"
        },
        "id": "vZL0H0bwt1rQ",
        "outputId": "a4f76eca-cd2b-4087-87a7-9215266f4fa7"
      },
      "source": [
        "#path = './gdrive/Shared drives/Social Media/Data/'\r\n",
        "path = './gdrive/Shareddrives/Social Media/Data/MorpheBrushes_details.xlsx'\r\n",
        "screen_name = \"MorpheBrushes\" #change\r\n",
        "currentDate = datetime.datetime.now().date() #change\r\n",
        "#currentDate = datetime.datetime(2021, 1, 10)\r\n",
        "#book = op.load_workbook(path + screen_name + \"_details.xlsx\")\r\n",
        "book = op.load_workbook(path)\r\n",
        "sheet = book.active\r\n",
        "\r\n",
        "col1 = []\r\n",
        "col2 = []\r\n",
        "col3 = []\r\n",
        "col4 = []\r\n",
        "\r\n",
        "def getUserDetails():\r\n",
        "  userDetails = api.get_user(screen_name)\r\n",
        "  print(screen_name)\r\n",
        "  print (currentDate)\r\n",
        "  print(\"Twitter user name: \" , userDetails.name)\r\n",
        "  print(\"Number of followers: \" , userDetails.followers_count)\r\n",
        "  #print(\"Number of search\", userDetails.)\r\n",
        "\r\n",
        "  col1 = screen_name\r\n",
        "  col2 = currentDate\r\n",
        "  col3 = userDetails.name\r\n",
        "  col4 = userDetails.followers_count\r\n",
        "  #col5 = userDetails.\r\n",
        "\r\n",
        "  sheet.append([col1, col2, col3, col4])\r\n",
        "  book.save(path)\r\n",
        "  print(\"File updated.\")\r\n",
        "\r\n",
        "  #files.download(\"Maybelline_details.xlsx\")\r\n",
        "\r\n",
        "getUserDetails()"
      ],
      "execution_count": null,
      "outputs": [
        {
          "output_type": "stream",
          "text": [
            "MorpheBrushes\n",
            "2021-01-17\n",
            "Twitter user name:  Morphe\n",
            "Number of followers:  1171090\n",
            "File updated.\n",
            "1171090\n"
          ],
          "name": "stdout"
        }
      ]
    },
    {
      "cell_type": "markdown",
      "metadata": {
        "id": "EFQ2BvNa00cX"
      },
      "source": [
        "##Extra(Fenty Beauty Q2)"
      ]
    },
    {
      "cell_type": "code",
      "metadata": {
        "colab": {
          "base_uri": "https://localhost:8080/"
        },
        "id": "4GG1ejC204l0",
        "outputId": "9fdead3e-16c8-4d9a-924a-d7ea643b094f"
      },
      "source": [
        "#appending data\r\n",
        "\r\n",
        "tweet = []\r\n",
        "\r\n",
        "username = \"@fentybeauty\"\r\n",
        "startDate = datetime.datetime(2021, 1, 21) #change\r\n",
        "#path = './gdrive/Shareddrives/Social Media/Sample Data/'\r\n",
        "path = './gdrive/Shareddrives/Social Media/Data/@fentybeauty search.xlsx'\r\n",
        "book = op.load_workbook(path)\r\n",
        "sheet = book.active\r\n",
        "\r\n",
        "# This section is for you to learn about how the arrays in python function when using Tweepy\r\n",
        "def searchBrand():\r\n",
        "  result = api.search(q=username, count = 5)\r\n",
        "  for twit in result:\r\n",
        "    tweet.append(twit)\r\n",
        "\r\n",
        "  while (result[-1].created_at > startDate):\r\n",
        "    print(\"Last tweet at\", result[-1].created_at, \"- retrieving more tweets\")\r\n",
        "    time.sleep(5)\r\n",
        "    result = api.search(q=username, count = 10,max_id = result[-1].id-1)\r\n",
        "    for twit in result:\r\n",
        "      tweet.append(twit)\r\n",
        "\r\n",
        "  row = 0\r\n",
        "  for twit in tweet:\r\n",
        "    col1 = str(twit.user.screen_name)\r\n",
        "    col2 = str(twit.user.id)\r\n",
        "    col3 = str(twit.user.friends_count)\r\n",
        "    col4 = str(twit.user.created_at)\r\n",
        "    col5 = str(twit.text)\r\n",
        "    col6 = str(twit.id)\r\n",
        "    col7 = str(twit.created_at)\r\n",
        "    col8 = str(twit.place)\r\n",
        "    col9 = str(twit.retweet_count)\r\n",
        "    col10 = str(twit.favorite_count)\r\n",
        "    col11 = str(twit.lang)\r\n",
        "\r\n",
        "    sheet.append([col1, col2, col3, col4, col5, col6, col7, col8, col9, col10, col11])\r\n",
        "    row +=1\r\n",
        "\r\n",
        "  book.save(path)\r\n",
        "  #files.download(username + \" search.xlsx\")\r\n",
        "\r\n",
        "searchBrand()"
      ],
      "execution_count": null,
      "outputs": [
        {
          "output_type": "stream",
          "text": [
            "Last tweet at 2021-01-21 13:56:41 - retrieving more tweets\n",
            "Last tweet at 2021-01-21 13:11:38 - retrieving more tweets\n",
            "Last tweet at 2021-01-21 11:33:05 - retrieving more tweets\n",
            "Last tweet at 2021-01-21 10:35:36 - retrieving more tweets\n",
            "Last tweet at 2021-01-21 08:55:07 - retrieving more tweets\n",
            "Last tweet at 2021-01-21 07:13:33 - retrieving more tweets\n",
            "Last tweet at 2021-01-21 06:37:21 - retrieving more tweets\n",
            "Last tweet at 2021-01-21 05:38:58 - retrieving more tweets\n",
            "Last tweet at 2021-01-21 05:12:01 - retrieving more tweets\n",
            "Last tweet at 2021-01-21 04:50:04 - retrieving more tweets\n",
            "Last tweet at 2021-01-21 04:22:12 - retrieving more tweets\n",
            "Last tweet at 2021-01-21 03:35:08 - retrieving more tweets\n",
            "Last tweet at 2021-01-21 03:02:26 - retrieving more tweets\n",
            "Last tweet at 2021-01-21 01:58:42 - retrieving more tweets\n",
            "Last tweet at 2021-01-21 00:46:40 - retrieving more tweets\n"
          ],
          "name": "stdout"
        }
      ]
    },
    {
      "cell_type": "code",
      "metadata": {
        "id": "IUPr1VIeNSmu"
      },
      "source": [
        "#appending data\r\n",
        "\r\n",
        "tweet = []\r\n",
        "\r\n",
        "username = \"@MorpheBrushes\"\r\n",
        "startDate = datetime.datetime(2021, 1, 19) #change\r\n",
        "#path = './gdrive/Shareddrives/Social Media/Sample Data/'\r\n",
        "path = './gdrive/Shareddrives/Social Media/Data/@MorpheBrushes search.xlsx'\r\n",
        "book = op.load_workbook(path)\r\n",
        "sheet = book.active\r\n",
        "\r\n",
        "# This section is for you to learn about how the arrays in python function when using Tweepy\r\n",
        "def searchBrand():\r\n",
        "  result = api.search(q=username, count = 5)\r\n",
        "  for twit in result:\r\n",
        "    tweet.append(twit)\r\n",
        "\r\n",
        "  while (result[-1].created_at > startDate):\r\n",
        "    print(\"Last tweet at\", result[-1].created_at, \"- retrieving more tweets\")\r\n",
        "    time.sleep(5)\r\n",
        "    result = api.search(q=username, count = 10,max_id = result[-1].id-1)\r\n",
        "    for twit in result:\r\n",
        "      tweet.append(twit)\r\n",
        "\r\n",
        "  row = 0\r\n",
        "  for twit in tweet:\r\n",
        "    col1 = str(twit.user.screen_name)\r\n",
        "    col2 = str(twit.user.id)\r\n",
        "    col3 = str(twit.user.friends_count)\r\n",
        "    col4 = str(twit.user.created_at)\r\n",
        "    col5 = str(twit.text)\r\n",
        "    col6 = str(twit.id)\r\n",
        "    col7 = str(twit.created_at)\r\n",
        "    col8 = str(twit.place)\r\n",
        "    col9 = str(twit.retweet_count)\r\n",
        "    col10 = str(twit.favorite_count)\r\n",
        "    col11 = str(twit.lang)\r\n",
        "\r\n",
        "    sheet.append([col1, col2, col3, col4, col5, col6, col7, col8, col9, col10, col11])\r\n",
        "    row +=1\r\n",
        "\r\n",
        "  book.save(path)\r\n",
        "  #files.download(username + \" search.xlsx\")\r\n",
        "\r\n",
        "searchBrand()"
      ],
      "execution_count": null,
      "outputs": []
    },
    {
      "cell_type": "code",
      "metadata": {
        "id": "ID0Ttw4pLkZW"
      },
      "source": [
        "#appending data\r\n",
        "\r\n",
        "tweet = []\r\n",
        "\r\n",
        "username = \"@MorpheBrushes\"\r\n",
        "startDate = datetime.datetime(2021, 1, 20) #change\r\n",
        "path = './gdrive/Shared drives/Social Media/Data/'\r\n",
        "book = op.load_workbook(path + username + \" search.xlsx\")\r\n",
        "sheet = book.active\r\n",
        "\r\n",
        "# This section is for you to learn about how the arrays in python function when using Tweepy\r\n",
        "def searchBrand():\r\n",
        "  result = api.search(q=username, count = 5)\r\n",
        "  for twit in result:\r\n",
        "    tweet.append(twit)\r\n",
        "\r\n",
        "  while (result[-1].created_at > startDate):\r\n",
        "    print(\"Last tweet at\", result[-1].created_at, \"- retrieving more tweets\")\r\n",
        "    time.sleep(10)\r\n",
        "    result = api.search(q=username, count = 5,max_id = result[-1].id-1)\r\n",
        "    for twit in result:\r\n",
        "      tweet.append(twit)\r\n",
        "\r\n",
        "  row = 0\r\n",
        "  for twit in tweet:\r\n",
        "    col1 = str(twit.user.screen_name)\r\n",
        "    col2 = str(twit.user.id)\r\n",
        "    col3 = str(twit.user.friends_count)\r\n",
        "    col4 = str(twit.user.created_at)\r\n",
        "    col5 = str(twit.text)\r\n",
        "    col6 = str(twit.id)\r\n",
        "    col7 = str(twit.created_at)\r\n",
        "    col8 = str(twit.place)\r\n",
        "    col9 = str(twit.retweet_count)\r\n",
        "    col10 = str(twit.favorite_count)\r\n",
        "    col11 = str(twit.lang)\r\n",
        "\r\n",
        "    sheet.append([col1, col2, col3, col4, col5, col6, col7, col8, col9, col10, col11])\r\n",
        "    row +=1\r\n",
        "\r\n",
        "  print(\"saving to drive.. /n\")\r\n",
        "  book.save(path + username + \" search.xlsx\")\r\n",
        "  print(\"done saving\")\r\n",
        "  #files.download(username + \" search.xlsx\")\r\n",
        "\r\n",
        "searchBrand()"
      ],
      "execution_count": null,
      "outputs": []
    },
    {
      "cell_type": "code",
      "metadata": {
        "colab": {
          "base_uri": "https://localhost:8080/"
        },
        "id": "_dEMgrD8MkV1",
        "outputId": "ef8790dc-eed0-4f97-ee82-b5f70e4c03cc"
      },
      "source": [
        "#appending data\r\n",
        "\r\n",
        "tweet = []\r\n",
        "username = \"MorpheBrushes\"\r\n",
        "startDate = datetime.datetime(2021, 1, 13) #change\r\n",
        "#path = './gdrive/Shared drives/Social Media/Sample Data/'\r\n",
        "#path = '/content/gdrive/Shareddrives/Social Media/Data/@Maybelline_tweets.xlsx'\r\n",
        "\r\n",
        "path = './gdrive/Shareddrives/Social Media/Data/MorpheBrushestweets.xlsx'\r\n",
        "book = op.load_workbook(path)\r\n",
        "sheet = book.active\r\n",
        "\r\n",
        "# This section is for you to learn about how the arrays in python function when using Tweepy\r\n",
        "def queryTimeline():\r\n",
        "  result = api.user_timeline(username, count = 5)\r\n",
        "  for twit in result:\r\n",
        "    tweet.append(twit)\r\n",
        "\r\n",
        "  while (result[-1].created_at > startDate):\r\n",
        "    print(\"Last tweet at\", result[-1].created_at, \"- retrieving more tweets\")\r\n",
        "    time.sleep(3)\r\n",
        "    result = api.user_timeline(username, count = 5,max_id = result[-1].id-1)\r\n",
        "    for twit in result:\r\n",
        "      tweet.append(twit)\r\n",
        "\r\n",
        "  row = 0\r\n",
        "  for twit in tweet:\r\n",
        "    col1 = str(twit.id)\r\n",
        "    col2 = str(twit.text)\r\n",
        "    col3 = str(twit.created_at)\r\n",
        "    col4 = str(twit.place)\r\n",
        "    col5 = str(twit.retweet_count)\r\n",
        "    col6 = str(twit.favorite_count)\r\n",
        "    col7 = str(twit.lang)\r\n",
        "    col8 = str(twit.source)\r\n",
        "\r\n",
        "    sheet.append([col1, col2, col3, col4, col5, col6, col7, col8])\r\n",
        "    row +=1\r\n",
        "\r\n",
        "    book.save(path)\r\n",
        "    #files.download(username + \"_tweets.xlsx\")\r\n",
        "\r\n",
        "queryTimeline()"
      ],
      "execution_count": null,
      "outputs": [
        {
          "output_type": "stream",
          "text": [
            "Last tweet at 2021-01-19 20:54:31 - retrieving more tweets\n",
            "Last tweet at 2021-01-18 22:09:59 - retrieving more tweets\n",
            "Last tweet at 2021-01-18 16:20:29 - retrieving more tweets\n",
            "Last tweet at 2021-01-18 15:48:32 - retrieving more tweets\n",
            "Last tweet at 2021-01-16 22:50:34 - retrieving more tweets\n",
            "Last tweet at 2021-01-14 18:12:25 - retrieving more tweets\n",
            "Last tweet at 2021-01-13 00:24:56 - retrieving more tweets\n"
          ],
          "name": "stdout"
        }
      ]
    },
    {
      "cell_type": "code",
      "metadata": {
        "id": "Bbu04JvoNwY4"
      },
      "source": [
        "from google.colab import drive\n",
        "drive.mount('/content/drive')"
      ],
      "execution_count": null,
      "outputs": []
    }
  ]
}